{
  "nbformat": 4,
  "nbformat_minor": 0,
  "metadata": {
    "colab": {
      "name": "Hand_Writing_Letter_Detection_.ipynb",
      "provenance": [],
      "collapsed_sections": [],
      "machine_shape": "hm",
      "authorship_tag": "ABX9TyPbKJdfMjVSJa6zHujvxNax",
      "include_colab_link": true
    },
    "kernelspec": {
      "name": "python3",
      "display_name": "Python 3"
    },
    "accelerator": "GPU"
  },
  "cells": [
    {
      "cell_type": "markdown",
      "metadata": {
        "id": "view-in-github",
        "colab_type": "text"
      },
      "source": [
        "<a href=\"https://colab.research.google.com/github/SonaliAnesta/ML-Project/blob/master/Hand_Writing_Letter_Detection_.ipynb\" target=\"_parent\"><img src=\"https://colab.research.google.com/assets/colab-badge.svg\" alt=\"Open In Colab\"/></a>"
      ]
    },
    {
      "cell_type": "code",
      "metadata": {
        "id": "54KJhgLV2odH",
        "colab_type": "code",
        "colab": {}
      },
      "source": [
        "import tensorflow as tf"
      ],
      "execution_count": 0,
      "outputs": []
    },
    {
      "cell_type": "code",
      "metadata": {
        "id": "Gp6re0fl0lhR",
        "colab_type": "code",
        "colab": {}
      },
      "source": [
        "keras = tf.keras"
      ],
      "execution_count": 0,
      "outputs": []
    },
    {
      "cell_type": "code",
      "metadata": {
        "id": "AHy-uhr_2qe0",
        "colab_type": "code",
        "colab": {}
      },
      "source": [
        "import matplotlib.pyplot as plt"
      ],
      "execution_count": 0,
      "outputs": []
    },
    {
      "cell_type": "code",
      "metadata": {
        "id": "KweNYHGB3MxZ",
        "colab_type": "code",
        "colab": {}
      },
      "source": [
        "from tensorflow.keras.preprocessing.image import ImageDataGenerator\n",
        "from tensorflow.keras.models import Sequential\n",
        "from tensorflow.keras.layers import Dense, Conv2D, Flatten, Dropout, MaxPooling2D"
      ],
      "execution_count": 0,
      "outputs": []
    },
    {
      "cell_type": "code",
      "metadata": {
        "id": "tcU8J40S2wU-",
        "colab_type": "code",
        "outputId": "da91f888-2594-4549-9611-73d6084e6d49",
        "colab": {
          "base_uri": "https://localhost:8080/",
          "height": 34
        }
      },
      "source": [
        "from google.colab import drive \n",
        "drive.mount('/content/drive/')"
      ],
      "execution_count": 0,
      "outputs": [
        {
          "output_type": "stream",
          "text": [
            "Drive already mounted at /content/drive/; to attempt to forcibly remount, call drive.mount(\"/content/drive/\", force_remount=True).\n"
          ],
          "name": "stdout"
        }
      ]
    },
    {
      "cell_type": "code",
      "metadata": {
        "id": "_hQioIpd3Inr",
        "colab_type": "code",
        "outputId": "a3fa3c3a-7355-4cf0-9122-af22e3c1cb57",
        "colab": {
          "base_uri": "https://localhost:8080/",
          "height": 34
        }
      },
      "source": [
        "cd /content/drive/My Drive/EnglishHnd"
      ],
      "execution_count": 0,
      "outputs": [
        {
          "output_type": "stream",
          "text": [
            "/content/drive/My Drive/EnglishHnd\n"
          ],
          "name": "stdout"
        }
      ]
    },
    {
      "cell_type": "code",
      "metadata": {
        "id": "ZCQVjWQl3JR7",
        "colab_type": "code",
        "colab": {}
      },
      "source": [
        "DATA_DIR = './Img'\n",
        "batch_size = 20\n",
        "epochs = 15\n",
        "IMG_HEIGHT = 80\n",
        "IMG_WIDTH = 50"
      ],
      "execution_count": 0,
      "outputs": []
    },
    {
      "cell_type": "code",
      "metadata": {
        "id": "vJbRRPpK1m57",
        "colab_type": "code",
        "colab": {}
      },
      "source": [
        "train_image_generator = ImageDataGenerator(rescale=1./255, validation_split=.20) \n",
        "validation_image_generator = ImageDataGenerator(rescale=1./255, validation_split=.20) "
      ],
      "execution_count": 0,
      "outputs": []
    },
    {
      "cell_type": "code",
      "metadata": {
        "id": "bzPg5Ksy1yJR",
        "colab_type": "code",
        "outputId": "f468ca95-858b-412c-936b-90a866a88498",
        "colab": {
          "base_uri": "https://localhost:8080/",
          "height": 34
        }
      },
      "source": [
        "train_data_gen = train_image_generator.flow_from_directory(batch_size=batch_size,\n",
        "                                                           directory=DATA_DIR,\n",
        "                                                           shuffle=True,\n",
        "                                                           subset=\"training\",\n",
        "                                                           target_size=(IMG_HEIGHT, IMG_WIDTH),\n",
        "                                                           class_mode='categorical')"
      ],
      "execution_count": 0,
      "outputs": [
        {
          "output_type": "stream",
          "text": [
            "Found 2304 images belonging to 52 classes.\n"
          ],
          "name": "stdout"
        }
      ]
    },
    {
      "cell_type": "code",
      "metadata": {
        "id": "Z82T7kaFB6wC",
        "colab_type": "code",
        "outputId": "ebfdef03-91ff-4fb7-ff78-e890ae8453f7",
        "colab": {
          "base_uri": "https://localhost:8080/",
          "height": 54
        }
      },
      "source": [
        "label_map = (train_data_gen.class_indices)\n",
        "print(label_map[])"
      ],
      "execution_count": 0,
      "outputs": [
        {
          "output_type": "stream",
          "text": [
            "{'A': 0, 'B': 1, 'C': 2, 'D': 3, 'E': 4, 'F': 5, 'G': 6, 'H': 7, 'I': 8, 'J': 9, 'K': 10, 'L': 11, 'M': 12, 'N': 13, 'O': 14, 'P': 15, 'Q': 16, 'R': 17, 'S': 18, 'T': 19, 'U': 20, 'V': 21, 'W': 22, 'X': 23, 'Y': 24, 'Z': 25, 'a': 26, 'b': 27, 'c': 28, 'd': 29, 'e': 30, 'f': 31, 'g': 32, 'h': 33, 'i': 34, 'j': 35, 'k': 36, 'l': 37, 'm': 38, 'n': 39, 'o': 40, 'p': 41, 'q': 42, 'r': 43, 's': 44, 't': 45, 'u': 46, 'v': 47, 'w': 48, 'x': 49, 'y': 50, 'z': 51}\n"
          ],
          "name": "stdout"
        }
      ]
    },
    {
      "cell_type": "code",
      "metadata": {
        "id": "f1deuF_n3Teq",
        "colab_type": "code",
        "outputId": "82a68e6a-1fbc-436f-ec50-6c037d4691da",
        "colab": {
          "base_uri": "https://localhost:8080/",
          "height": 34
        }
      },
      "source": [
        "val_data_gen = validation_image_generator.flow_from_directory(batch_size=batch_size,\n",
        "                                                              directory=DATA_DIR,\n",
        "                                                              shuffle=False,\n",
        "                                                              subset=\"validation\",\n",
        "                                                              target_size=(IMG_HEIGHT, IMG_WIDTH),\n",
        "                                                              class_mode='categorical')"
      ],
      "execution_count": 0,
      "outputs": [
        {
          "output_type": "stream",
          "text": [
            "Found 574 images belonging to 52 classes.\n"
          ],
          "name": "stdout"
        }
      ]
    },
    {
      "cell_type": "code",
      "metadata": {
        "id": "F0fCkBhEcBxs",
        "colab_type": "code",
        "colab": {}
      },
      "source": [
        "total_train = 115\n",
        "total_val = 29"
      ],
      "execution_count": 0,
      "outputs": []
    },
    {
      "cell_type": "code",
      "metadata": {
        "id": "dnSSX7Cn38hm",
        "colab_type": "code",
        "colab": {}
      },
      "source": [
        "sample_training_images, _ = next(train_data_gen)"
      ],
      "execution_count": 0,
      "outputs": []
    },
    {
      "cell_type": "code",
      "metadata": {
        "id": "Cp2AMBau4saf",
        "colab_type": "code",
        "colab": {}
      },
      "source": [
        "def plotImages(images_arr):\n",
        "    fig, axes = plt.subplots(1, 5, figsize=(20,20))\n",
        "    axes = axes.flatten()\n",
        "    for img, ax in zip( images_arr, axes):\n",
        "        ax.imshow(img)\n",
        "        ax.axis('off')\n",
        "    plt.tight_layout()\n",
        "    plt.show()"
      ],
      "execution_count": 0,
      "outputs": []
    },
    {
      "cell_type": "code",
      "metadata": {
        "id": "fpkybjzY4vm3",
        "colab_type": "code",
        "outputId": "6eb79390-cb65-447f-c307-b563704b26ad",
        "colab": {
          "base_uri": "https://localhost:8080/",
          "height": 370
        }
      },
      "source": [
        "plotImages(sample_training_images[:5])"
      ],
      "execution_count": 0,
      "outputs": [
        {
          "output_type": "display_data",
          "data": {
            "image/png": "[encoded data removed]",
            "text/plain": [
              "<Figure size 1440x1440 with 5 Axes>"
            ]
          },
          "metadata": {
            "tags": [],
            "needs_background": "light"
          }
        }
      ]
    },
    {
      "cell_type": "code",
      "metadata": {
        "id": "eDRNdW_4T-wx",
        "colab_type": "code",
        "colab": {}
      },
      "source": [
        "model = Sequential([\n",
        "    Conv2D(16, 3, padding='same', activation='relu', input_shape=(IMG_HEIGHT, IMG_WIDTH ,3)),\n",
        "    MaxPooling2D(),\n",
        "    Conv2D(32, 3, padding='same', activation='relu'),\n",
        "    MaxPooling2D(),\n",
        "    Conv2D(64, 3, padding='same', activation='relu'),\n",
        "    MaxPooling2D(),\n",
        "    Flatten(),\n",
        "    Dense(512, activation='relu'),\n",
        "    Dense(52)\n",
        "])"
      ],
      "execution_count": 0,
      "outputs": []
    },
    {
      "cell_type": "code",
      "metadata": {
        "id": "cqnFIRoi6Ej3",
        "colab_type": "code",
        "colab": {}
      },
      "source": [
        "model.compile(optimizer=tf.keras.optimizers.Adam(lr=0.001),\n",
        "              loss=tf.keras.losses.CategoricalCrossentropy(from_logits=True),\n",
        "              metrics=['accuracy'])"
      ],
      "execution_count": 0,
      "outputs": []
    },
    {
      "cell_type": "code",
      "metadata": {
        "id": "cge2Nqth6dkk",
        "colab_type": "code",
        "outputId": "450afe1f-8eec-40b4-86a6-737337c57dce",
        "colab": {
          "base_uri": "https://localhost:8080/",
          "height": 454
        }
      },
      "source": [
        "model.summary()"
      ],
      "execution_count": 0,
      "outputs": [
        {
          "output_type": "stream",
          "text": [
            "Model: \"sequential\"\n",
            "_________________________________________________________________\n",
            "Layer (type)                 Output Shape              Param #   \n",
            "=================================================================\n",
            "conv2d (Conv2D)              (None, 80, 50, 16)        448       \n",
            "_________________________________________________________________\n",
            "max_pooling2d (MaxPooling2D) (None, 40, 25, 16)        0         \n",
            "_________________________________________________________________\n",
            "conv2d_1 (Conv2D)            (None, 40, 25, 32)        4640      \n",
            "_________________________________________________________________\n",
            "max_pooling2d_1 (MaxPooling2 (None, 20, 12, 32)        0         \n",
            "_________________________________________________________________\n",
            "conv2d_2 (Conv2D)            (None, 20, 12, 64)        18496     \n",
            "_________________________________________________________________\n",
            "max_pooling2d_2 (MaxPooling2 (None, 10, 6, 64)         0         \n",
            "_________________________________________________________________\n",
            "flatten (Flatten)            (None, 3840)              0         \n",
            "_________________________________________________________________\n",
            "dense (Dense)                (None, 512)               1966592   \n",
            "_________________________________________________________________\n",
            "dense_1 (Dense)              (None, 52)                26676     \n",
            "=================================================================\n",
            "Total params: 2,016,852\n",
            "Trainable params: 2,016,852\n",
            "Non-trainable params: 0\n",
            "_________________________________________________________________\n"
          ],
          "name": "stdout"
        }
      ]
    },
    {
      "cell_type": "code",
      "metadata": {
        "id": "UvLXHoOl6vZu",
        "colab_type": "code",
        "outputId": "f470ec06-e676-4c76-b8ae-a977ce46a2de",
        "colab": {
          "base_uri": "https://localhost:8080/",
          "height": 591
        }
      },
      "source": [
        "history = model.fit_generator(\n",
        "    train_data_gen,\n",
        "    steps_per_epoch=total_train,\n",
        "    epochs=epochs,\n",
        "    validation_data=val_data_gen,\n",
        "    validation_steps=total_val\n",
        ")"
      ],
      "execution_count": 0,
      "outputs": [
        {
          "output_type": "stream",
          "text": [
            "WARNING:tensorflow:From <ipython-input-19-877741a0af4a>:6: Model.fit_generator (from tensorflow.python.keras.engine.training) is deprecated and will be removed in a future version.\n",
            "Instructions for updating:\n",
            "Please use Model.fit, which supports generators.\n",
            "Epoch 1/15\n",
            "115/115 [==============================] - 893s 8s/step - loss: 3.6532 - accuracy: 0.0876 - val_loss: 3.0197 - val_accuracy: 0.2247\n",
            "Epoch 2/15\n",
            "115/115 [==============================] - 39s 340ms/step - loss: 1.7853 - accuracy: 0.5148 - val_loss: 1.8954 - val_accuracy: 0.4965\n",
            "Epoch 3/15\n",
            "115/115 [==============================] - 39s 340ms/step - loss: 0.9262 - accuracy: 0.7360 - val_loss: 1.6536 - val_accuracy: 0.5854\n",
            "Epoch 4/15\n",
            "115/115 [==============================] - 39s 336ms/step - loss: 0.5399 - accuracy: 0.8314 - val_loss: 1.7728 - val_accuracy: 0.5958\n",
            "Epoch 5/15\n",
            "115/115 [==============================] - 39s 337ms/step - loss: 0.3340 - accuracy: 0.8980 - val_loss: 1.8811 - val_accuracy: 0.6272\n",
            "Epoch 6/15\n",
            "115/115 [==============================] - 39s 336ms/step - loss: 0.1984 - accuracy: 0.9418 - val_loss: 1.8637 - val_accuracy: 0.6376\n",
            "Epoch 7/15\n",
            "115/115 [==============================] - 39s 336ms/step - loss: 0.1391 - accuracy: 0.9597 - val_loss: 2.1677 - val_accuracy: 0.6010\n",
            "Epoch 8/15\n",
            "115/115 [==============================] - 39s 340ms/step - loss: 0.1022 - accuracy: 0.9663 - val_loss: 1.9512 - val_accuracy: 0.6603\n",
            "Epoch 9/15\n",
            "115/115 [==============================] - 39s 339ms/step - loss: 0.0575 - accuracy: 0.9812 - val_loss: 2.0715 - val_accuracy: 0.6620\n",
            "Epoch 10/15\n",
            "115/115 [==============================] - 39s 336ms/step - loss: 0.0797 - accuracy: 0.9750 - val_loss: 1.9363 - val_accuracy: 0.6202\n",
            "Epoch 11/15\n",
            "115/115 [==============================] - 39s 336ms/step - loss: 0.0538 - accuracy: 0.9829 - val_loss: 2.1869 - val_accuracy: 0.6585\n",
            "Epoch 12/15\n",
            "115/115 [==============================] - 39s 336ms/step - loss: 0.0353 - accuracy: 0.9899 - val_loss: 2.0436 - val_accuracy: 0.6707\n",
            "Epoch 13/15\n",
            "115/115 [==============================] - 38s 334ms/step - loss: 0.0302 - accuracy: 0.9917 - val_loss: 2.0363 - val_accuracy: 0.6672\n",
            "Epoch 14/15\n",
            "115/115 [==============================] - 39s 336ms/step - loss: 0.0270 - accuracy: 0.9917 - val_loss: 2.2996 - val_accuracy: 0.6446\n",
            "Epoch 15/15\n",
            "115/115 [==============================] - 38s 334ms/step - loss: 0.0256 - accuracy: 0.9930 - val_loss: 2.2966 - val_accuracy: 0.6359\n"
          ],
          "name": "stdout"
        }
      ]
    },
    {
      "cell_type": "code",
      "metadata": {
        "id": "w6hsEYppAyQs",
        "colab_type": "code",
        "outputId": "e1cf8c8f-e627-4fe3-8334-d5d6d5aad0cf",
        "colab": {
          "base_uri": "https://localhost:8080/",
          "height": 499
        }
      },
      "source": [
        "acc = history.history['accuracy']\n",
        "val_acc = history.history['val_accuracy']\n",
        "\n",
        "loss=history.history['loss']\n",
        "val_loss=history.history['val_loss']\n",
        "\n",
        "epochs_range = range(epochs)\n",
        "\n",
        "plt.figure(figsize=(8, 8))\n",
        "plt.subplot(1, 2, 1)\n",
        "plt.plot(epochs_range, acc, label='Training Accuracy')\n",
        "plt.plot(epochs_range, val_acc, label='Validation Accuracy')\n",
        "plt.legend(loc='lower right')\n",
        "plt.title('Training and Validation Accuracy')\n",
        "\n",
        "plt.subplot(1, 2, 2)\n",
        "plt.plot(epochs_range, loss, label='Training Loss')\n",
        "plt.plot(epochs_range, val_loss, label='Validation Loss')\n",
        "plt.legend(loc='upper right')\n",
        "plt.title('Training and Validation Loss')\n",
        "plt.show()"
      ],
      "execution_count": 0,
      "outputs": [
        {
          "output_type": "display_data",
          "data": {
            "image/png": "[encoded data removed]",
            "text/plain": [
              "<Figure size 576x576 with 2 Axes>"
            ]
          },
          "metadata": {
            "tags": [],
            "needs_background": "light"
          }
        }
      ]
    },
    {
      "cell_type": "code",
      "metadata": {
        "id": "d5sL1QlsEqAV",
        "colab_type": "code",
        "colab": {}
      },
      "source": [
        "model.save('Handwriting_detection.h5')"
      ],
      "execution_count": 0,
      "outputs": []
    }
  ]
}