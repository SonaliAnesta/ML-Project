{
  "nbformat": 4,
  "nbformat_minor": 0,
  "metadata": {
    "colab": {
      "name": "Tester.ipynb",
      "provenance": [],
      "collapsed_sections": [],
      "mount_file_id": "10WfDb-p5CQNNWGsNCyZiNN79dcMUrwsp",
      "authorship_tag": "ABX9TyNqIXjZQqd72f6GlaexxDq0",
      "include_colab_link": true
    },
    "kernelspec": {
      "name": "python3",
      "display_name": "Python 3"
    }
  },
  "cells": [
    {
      "cell_type": "markdown",
      "metadata": {
        "id": "view-in-github",
        "colab_type": "text"
      },
      "source": [
        "<a href=\"https://colab.research.google.com/github/SonaliAnesta/ML-Project/blob/master/Tester.ipynb\" target=\"_parent\"><img src=\"https://colab.research.google.com/assets/colab-badge.svg\" alt=\"Open In Colab\"/></a>"
      ]
    },
    {
      "cell_type": "code",
      "metadata": {
        "id": "twKmZ3cA5VwW",
        "colab_type": "code",
        "outputId": "89ed2670-cc11-47b2-e893-31edab0119d8",
        "colab": {
          "base_uri": "https://localhost:8080/",
          "height": 34
        }
      },
      "source": [
        "from google.colab import drive \n",
        "import tensorflow as tf\n",
        "import matplotlib.pyplot as plt\n",
        "import numpy as np\n",
        "import os\n",
        "%cd /content/drive/My Drive/EnglishHnd"
      ],
      "execution_count": 0,
      "outputs": [
        {
          "output_type": "stream",
          "text": [
            "/content/drive/My Drive/EnglishHnd\n"
          ],
          "name": "stdout"
        }
      ]
    },
    {
      "cell_type": "code",
      "metadata": {
        "id": "lgT_10zdEHM5",
        "colab_type": "code",
        "colab": {}
      },
      "source": [
        "label_dict = {'A': 0, 'B': 1, 'C': 2, 'D': 3, 'E': 4, 'F': 5, 'G': 6, 'H': 7, 'I': 8, 'J': 9, 'K': 10, 'L': 11, 'M': 12, 'N': 13, 'O': 14, 'P': 15, 'Q': 16, 'R': 17, 'S': 18, 'T': 19, 'U': 20, 'V': 21, 'W': 22, 'X': 23, 'Y': 24, 'Z': 25, 'a': 26, 'b': 27, 'c': 28, 'd': 29, 'e': 30, 'f': 31, 'g': 32, 'h': 33, 'i': 34, 'j': 35, 'k': 36, 'l': 37, 'm': 38, 'n': 39, 'o': 40, 'p': 41, 'q': 42, 'r': 43, 's': 44, 't': 45, 'u': 46, 'v': 47, 'w': 48, 'x': 49, 'y': 50, 'z': 51}"
      ],
      "execution_count": 0,
      "outputs": []
    },
    {
      "cell_type": "code",
      "metadata": {
        "id": "z_IWCPOZgWpA",
        "colab_type": "code",
        "outputId": "6e79836b-00db-418e-b1a5-acfaf2876b31",
        "colab": {
          "base_uri": "https://localhost:8080/",
          "height": 34
        }
      },
      "source": [
        "!ls"
      ],
      "execution_count": 0,
      "outputs": [
        {
          "output_type": "stream",
          "text": [
            "Handwriting_detection.h5  Img  Test3.h5  vali01.png  vali02.png  vali03.png\n"
          ],
          "name": "stdout"
        }
      ]
    },
    {
      "cell_type": "code",
      "metadata": {
        "id": "O0psDbn05ZRe",
        "colab_type": "code",
        "colab": {}
      },
      "source": [
        "def load_image(img_path, show=True):\n",
        "\n",
        "    img = tf.keras.preprocessing.image.load_img(img_path, target_size=(80, 50))\n",
        "    img_tensor = tf.keras.preprocessing.image.img_to_array(img)                   \n",
        "    img_tensor = np.expand_dims(img_tensor, axis=0)          \n",
        "    img_tensor /= 255.                                      \n",
        "\n",
        "    if show:\n",
        "        plt.imshow(img_tensor[0])                           \n",
        "        plt.axis('off')\n",
        "        plt.show()\n",
        "\n",
        "    return img_tensor"
      ],
      "execution_count": 0,
      "outputs": []
    },
    {
      "cell_type": "code",
      "metadata": {
        "id": "8waZueGpGCOS",
        "colab_type": "code",
        "colab": {}
      },
      "source": [
        "model = tf.keras.models.load_model('./Handwriting_detection.h5')"
      ],
      "execution_count": 0,
      "outputs": []
    },
    {
      "cell_type": "code",
      "metadata": {
        "id": "U1JGImRpGHe2",
        "colab_type": "code",
        "outputId": "404bb0b2-b5eb-41c2-f025-f8652980b4af",
        "colab": {
          "base_uri": "https://localhost:8080/",
          "height": 248
        }
      },
      "source": [
        "img_path = './vali03.png'   # Validating image location here \n",
        "new_image = load_image(img_path)\n",
        "pred = model.predict(new_image)"
      ],
      "execution_count": 0,
      "outputs": [
        {
          "output_type": "display_data",
          "data": {
            "image/png": "[encoded data removed]",
            "text/plain": [
              "<Figure size 432x288 with 1 Axes>"
            ]
          },
          "metadata": {
            "tags": [],
            "needs_background": "light"
          }
        }
      ]
    },
    {
      "cell_type": "code",
      "metadata": {
        "id": "XteTKpRJA4Zz",
        "colab_type": "code",
        "colab": {}
      },
      "source": [
        "predicted_letter = np.argmax(pred)"
      ],
      "execution_count": 0,
      "outputs": []
    },
    {
      "cell_type": "code",
      "metadata": {
        "id": "iMDKiyVuBK2I",
        "colab_type": "code",
        "outputId": "e3c07ce8-6763-442b-b3bc-28a5a8738685",
        "colab": {
          "base_uri": "https://localhost:8080/",
          "height": 34
        }
      },
      "source": [
        "for label, index in label_dict.items():\n",
        "    if index == predicted_letter:\n",
        "        print(\"Predicted Letter: \",label)"
      ],
      "execution_count": 0,
      "outputs": [
        {
          "output_type": "stream",
          "text": [
            "Predicted Letter:  B\n"
          ],
          "name": "stdout"
        }
      ]
    }
  ]
}